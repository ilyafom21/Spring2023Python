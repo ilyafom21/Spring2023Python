{
 "cells": [
  {
   "cell_type": "markdown",
   "metadata": {},
   "source": [
    "## 4-е домашнее задание - Библиотека numpy\n",
    "\n",
    "Подпишите этот блокнот: укажите ФИО и номер группы. Выполненное задание загрузите в свой репозиторий «<b>Spring2023Python</b>» в github в папку \"<b>homework04</b>\".  \n",
    "\n",
    "Перед выполнением этого домашнего задания полезно прочитать про возможности и основные методы библиотеки numpy:  \n",
    "http://acm.mipt.ru/twiki/bin/view/Cintro/PythonNumpy  \n"
   ]
  },
  {
   "cell_type": "markdown",
   "metadata": {},
   "source": [
    "1.\tСоздайте равномерное разбиение интервала от -1.3 до 2.5 на 64 отрезка."
   ]
  },
  {
   "cell_type": "code",
   "execution_count": 1,
   "metadata": {
    "scrolled": true
   },
   "outputs": [
    {
     "name": "stdout",
     "output_type": "stream",
     "text": [
      "[-1.3      -1.240625 -1.18125  -1.121875 -1.0625   -1.003125 -0.94375\n",
      " -0.884375 -0.825    -0.765625 -0.70625  -0.646875 -0.5875   -0.528125\n",
      " -0.46875  -0.409375 -0.35     -0.290625 -0.23125  -0.171875 -0.1125\n",
      " -0.053125  0.00625   0.065625  0.125     0.184375  0.24375   0.303125\n",
      "  0.3625    0.421875  0.48125   0.540625  0.6       0.659375  0.71875\n",
      "  0.778125  0.8375    0.896875  0.95625   1.015625  1.075     1.134375\n",
      "  1.19375   1.253125  1.3125    1.371875  1.43125   1.490625  1.55\n",
      "  1.609375  1.66875   1.728125  1.7875    1.846875  1.90625   1.965625\n",
      "  2.025     2.084375  2.14375   2.203125  2.2625    2.321875  2.38125\n",
      "  2.440625  2.5     ]\n"
     ]
    }
   ],
   "source": [
    "import numpy as np\n",
    "print(np.linspace (-1.3, 2.5, 65))"
   ]
  },
  {
   "cell_type": "markdown",
   "metadata": {},
   "source": [
    "2.\tСгенерируйте numpy массив длины $3n$, заполненный циклически числами 1, 2, 3, 1, 2, 3, 1...."
   ]
  },
  {
   "cell_type": "code",
   "execution_count": 20,
   "metadata": {},
   "outputs": [
    {
     "name": "stdout",
     "output_type": "stream",
     "text": [
      "3\n",
      "[1 2 3 1 2 3 1 2 3]\n"
     ]
    }
   ],
   "source": [
    "n = int(input())\n",
    "a = np.array([1, 2, 3] * n)\n",
    "print(a)"
   ]
  },
  {
   "cell_type": "markdown",
   "metadata": {},
   "source": [
    "3.\tСоздайте массив первых 10 нечетных целых чисел."
   ]
  },
  {
   "cell_type": "code",
   "execution_count": 21,
   "metadata": {},
   "outputs": [
    {
     "name": "stdout",
     "output_type": "stream",
     "text": [
      "[ 1  3  5  7  9 11 13 15 17 19]\n"
     ]
    }
   ],
   "source": [
    "import numpy as np\n",
    "a = 10\n",
    "print(np.arange(1, a*2, 2))"
   ]
  },
  {
   "cell_type": "markdown",
   "metadata": {},
   "source": [
    "4.  Создайте массив нулей размера 10 x 10, а затем создайте в нём \"рамку\" из единиц по краям."
   ]
  },
  {
   "cell_type": "code",
   "execution_count": 24,
   "metadata": {},
   "outputs": [
    {
     "name": "stdout",
     "output_type": "stream",
     "text": [
      "[[1 1 1 1 1 1 1 1 1 1]\n",
      " [1 0 0 0 0 0 0 0 0 1]\n",
      " [1 0 0 0 0 0 0 0 0 1]\n",
      " [1 0 0 0 0 0 0 0 0 1]\n",
      " [1 0 0 0 0 0 0 0 0 1]\n",
      " [1 0 0 0 0 0 0 0 0 1]\n",
      " [1 0 0 0 0 0 0 0 0 1]\n",
      " [1 0 0 0 0 0 0 0 0 1]\n",
      " [1 0 0 0 0 0 0 0 0 1]\n",
      " [1 1 1 1 1 1 1 1 1 1]]\n"
     ]
    }
   ],
   "source": [
    "import numpy as np\n",
    "a = np.zeros((10, 10), dtype=int)\n",
    "a[0, :] = 1\n",
    "a[9, :] = 1\n",
    "a[:, 0] = 1\n",
    "a[:, 9] = 1\n",
    "print(a)\n"
   ]
  },
  {
   "cell_type": "markdown",
   "metadata": {},
   "source": [
    "5.  Создайте массив 8 x 8 с шахматной доской из нулей и единиц."
   ]
  },
  {
   "cell_type": "code",
   "execution_count": 17,
   "metadata": {},
   "outputs": [
    {
     "name": "stdout",
     "output_type": "stream",
     "text": [
      "[[0 1 0 1 0 1 0 1]\n",
      " [1 0 1 0 1 0 1 0]\n",
      " [0 1 0 1 0 1 0 1]\n",
      " [1 0 1 0 1 0 1 0]\n",
      " [0 1 0 1 0 1 0 1]\n",
      " [1 0 1 0 1 0 1 0]\n",
      " [0 1 0 1 0 1 0 1]\n",
      " [1 0 1 0 1 0 1 0]]\n"
     ]
    }
   ],
   "source": [
    "a = np.zeros((8,8), dtype=int)\n",
    "a[1::2,::2] = 1\n",
    "a[::2,1::2] = 1\n",
    "print(a)"
   ]
  },
  {
   "cell_type": "markdown",
   "metadata": {},
   "source": [
    "6.  Создайте функцию, которая создает $n×n$ матрицу с $(i,j)$-элементом, равным $i+j$."
   ]
  },
  {
   "cell_type": "code",
   "execution_count": 2,
   "metadata": {},
   "outputs": [
    {
     "name": "stdout",
     "output_type": "stream",
     "text": [
      "[[ 0  1  2  3  4  5  6]\n",
      " [ 1  2  3  4  5  6  7]\n",
      " [ 2  3  4  5  6  7  8]\n",
      " [ 3  4  5  6  7  8  9]\n",
      " [ 4  5  6  7  8  9 10]\n",
      " [ 5  6  7  8  9 10 11]\n",
      " [ 6  7  8  9 10 11 12]]\n"
     ]
    }
   ],
   "source": [
    "import numpy as np\n",
    "def matrix(n):\n",
    "    rows_index = np.arange(n)\n",
    "    cols_index = np.arange(n)\n",
    "    return rows_index[:, np.newaxis] + cols_index\n",
    "print(matrix(7))"
   ]
  },
  {
   "cell_type": "markdown",
   "metadata": {},
   "source": [
    "7. Примените функцию dot для перемножения вектор на вектор, матрицу на вектор и матрицу на матрицу."
   ]
  },
  {
   "cell_type": "code",
   "execution_count": 1,
   "metadata": {},
   "outputs": [
    {
     "name": "stdout",
     "output_type": "stream",
     "text": [
      "11\n",
      "[19 15  7]\n",
      "[[18 15 33]\n",
      " [ 9 10 25]\n",
      " [ 9  8 20]]\n"
     ]
    }
   ],
   "source": [
    "import numpy as np\n",
    "vector1 = np.random.randint(5, size = 4)\n",
    "vector2 = np.random.randint(5, size = 4)\n",
    "matrix1 = np.random.randint(5, size = (3,4))\n",
    "matrix2 = np.random.randint(5, size = (4,3))\n",
    "\n",
    "vectors_multiplication = np.dot(vector1, vector2)\n",
    "matrix_vector_multiplication = np.dot(matrix1, vector1)\n",
    "matrixes_multiplication = np.dot(matrix1, matrix2)\n",
    "\n",
    "print(vectors_multiplication)\n",
    "print(matrix_vector_multiplication)\n",
    "print(matrixes_multiplication)"
   ]
  },
  {
   "cell_type": "markdown",
   "metadata": {},
   "source": [
    "8. Вычислите cos(x) и sin(x) на интервале [0,1] с шагом $0.05$, а затем объедините оба массива чисел как строки в один массив."
   ]
  },
  {
   "cell_type": "code",
   "execution_count": 17,
   "metadata": {},
   "outputs": [
    {
     "name": "stdout",
     "output_type": "stream",
     "text": [
      "[['1.0' '0.0']\n",
      " ['0.9987502603949663' '0.04997916927067833']\n",
      " ['0.9950041652780258' '0.09983341664682815']\n",
      " ['0.9887710779360422' '0.14943813247359924']\n",
      " ['0.9800665778412416' '0.19866933079506122']\n",
      " ['0.9689124217106447' '0.24740395925452294']\n",
      " ['0.955336489125606' '0.2955202066613396']\n",
      " ['0.9393727128473789' '0.3428978074554514']\n",
      " ['0.9210609940028851' '0.3894183423086505']\n",
      " ['0.9004471023526769' '0.43496553411123023']\n",
      " ['0.8775825618903728' '0.479425538604203']\n",
      " ['0.8525245220595057' '0.5226872289306592']\n",
      " ['0.8253356149096782' '0.5646424733950355']\n",
      " ['0.7960837985490559' '0.6051864057360395']\n",
      " ['0.7648421872844884' '0.6442176872376911']\n",
      " ['0.7316888688738209' '0.6816387600233341']\n",
      " ['0.6967067093471654' '0.7173560908995228']\n",
      " ['0.6599831458849821' '0.7512804051402927']\n",
      " ['0.6216099682706644' '0.7833269096274834']\n",
      " ['0.5816830894638835' '0.8134155047893737']\n",
      " ['0.5403023058681398' '0.8414709848078965']]\n"
     ]
    }
   ],
   "source": [
    "import numpy as np\n",
    "x = np.arange(0, 1.05, 0.05)\n",
    "cos_x = np.cos(x)\n",
    "sin_x = np.sin(x)\n",
    "result = np.column_stack((cos_x, sin_x)).astype(str)\n",
    "print(result)"
   ]
  },
  {
   "cell_type": "markdown",
   "metadata": {},
   "source": [
    "9. Создайте матрицу $A$ размера $3×5$ из случайных чисел с равномерным распределением на отрезке $[-1,3]$ (используйте np.random.rand)"
   ]
  },
  {
   "cell_type": "code",
   "execution_count": 3,
   "metadata": {},
   "outputs": [
    {
     "name": "stdout",
     "output_type": "stream",
     "text": [
      "[[-0.95615261  2.38125433  1.19354668  1.95447965 -0.71077543]\n",
      " [-0.62912965 -0.72256967  1.53425544 -0.88403989  1.34608588]\n",
      " [ 2.85421368  2.51220907  2.94148642  2.34217896  0.50012171]]\n"
     ]
    }
   ],
   "source": [
    "a, b = -1, 3\n",
    "A = (b - a) * np.random.rand(3, 5) + a\n",
    "print(A)"
   ]
  },
  {
   "cell_type": "markdown",
   "metadata": {},
   "source": [
    "10. Найдите сумму всех элементов, сумму внутри строк, сумму внутри столбцов, а также среднее значение, дисперсию и стандартное отклонение чисел для каждой строки матрицы $A$. (Подобно тому, как sorted имеет необязательный аргумент key=, многие функции Numpy имеют необязательный аргумент axis=)\n"
   ]
  },
  {
   "cell_type": "code",
   "execution_count": 4,
   "metadata": {},
   "outputs": [
    {
     "name": "stdout",
     "output_type": "stream",
     "text": [
      "15.657164574965726\n",
      "[ 3.86235262  0.64460211 11.15020984]\n",
      "[1.26893142 4.17089373 5.66928854 3.41261872 1.13543216]\n",
      "[0.77247052 0.12892042 2.23004197]\n",
      "[1.87015851 1.15644443 0.79611212]\n",
      "[1.36753739 1.07538106 0.89225115]\n"
     ]
    }
   ],
   "source": [
    "import numpy as np\n",
    "sum_elements = np.sum(A)\n",
    "sum_rows = np.sum(A, axis = 1)\n",
    "sum_cols = np.sum(A, axis = 0)\n",
    "mean_rows = np.mean(A, axis = 1)\n",
    "var_rows = np.var(A, axis = 1)\n",
    "std_rows = np.std(A, axis = 1)\n",
    "print(sum_elements)\n",
    "print(sum_rows)\n",
    "print(sum_cols)\n",
    "print(mean_rows)\n",
    "print(var_rows)\n",
    "print(std_rows)"
   ]
  },
  {
   "cell_type": "markdown",
   "metadata": {},
   "source": [
    "11.  Отнимите от каждого элемента матрицы $A$ среднее по строке и поделите на стандартное отклонение строки."
   ]
  },
  {
   "cell_type": "code",
   "execution_count": 5,
   "metadata": {},
   "outputs": [
    {
     "name": "stdout",
     "output_type": "stream",
     "text": [
      "[[-1.26404086  1.17640938  0.30790833  0.86433405 -1.0846109 ]\n",
      " [-0.70491298 -0.79180313  1.30682515 -0.94195476  1.13184573]\n",
      " [ 0.6995471   0.31624179  0.79735896  0.12567873 -1.93882658]]\n"
     ]
    }
   ],
   "source": [
    "import numpy as np\n",
    "A = (A - mean_rows[:, np.newaxis]) / std_rows[:, np.newaxis]\n",
    "print(A)"
   ]
  },
  {
   "cell_type": "markdown",
   "metadata": {},
   "source": [
    "12. Отсортируйте матрицу $A$ по 3-ому столбцу, т.е. поменяйте местами строки матрицы так, чтобы 3-й столбец оказался отсортированным. Используйте для этого slicing + argsort + indexing."
   ]
  },
  {
   "cell_type": "code",
   "execution_count": 6,
   "metadata": {},
   "outputs": [
    {
     "name": "stdout",
     "output_type": "stream",
     "text": [
      "[[-1.26404086  1.17640938  0.30790833  0.86433405 -1.0846109 ]\n",
      " [ 0.6995471   0.31624179  0.79735896  0.12567873 -1.93882658]\n",
      " [-0.70491298 -0.79180313  1.30682515 -0.94195476  1.13184573]]\n"
     ]
    }
   ],
   "source": [
    "import numpy as np\n",
    "sort_index = np.argsort(A[:, 2])\n",
    "A_sorted = A[sort_index]\n",
    "print(A_sorted)"
   ]
  },
  {
   "cell_type": "markdown",
   "metadata": {},
   "source": [
    "13. Посчитайте две матрицы: $B = A^TA$ и $C = AA^T$. Что вы можете о них сказать? Какого они размера? В чём их сходство и отличие?"
   ]
  },
  {
   "cell_type": "code",
   "execution_count": 7,
   "metadata": {},
   "outputs": [
    {
     "name": "stdout",
     "output_type": "stream",
     "text": [
      "B =  [[ 2.58406775 -0.70765119 -0.75261657 -0.34063923 -0.78316077]\n",
      " [-0.70765119  2.1109001  -0.42036377  1.80239828 -2.78528342]\n",
      " [-0.75261657 -0.42036377  2.43838083 -0.86462346 -0.40077703]\n",
      " [-0.34063923  1.80239828 -0.86462346  1.65014726 -2.24728286]\n",
      " [-0.78316077 -2.78528342 -0.40077703 -2.24728286  6.21650407]]\n",
      "C =  [[ 5.         -1.67983926  1.944788  ]\n",
      " [-1.67983926  5.         -2.01434859]\n",
      " [ 1.944788   -2.01434859  5.        ]]\n"
     ]
    }
   ],
   "source": [
    "import numpy as np\n",
    "B = np.dot(A.T, A)\n",
    "C = np.dot(A, A.T)\n",
    "print('B = ', B)\n",
    "print('C = ', C)"
   ]
  },
  {
   "cell_type": "markdown",
   "metadata": {},
   "source": [
    "14. Найдите сумму диагональных элементов матриц $B$ и $C$."
   ]
  },
  {
   "cell_type": "code",
   "execution_count": 8,
   "metadata": {},
   "outputs": [
    {
     "name": "stdout",
     "output_type": "stream",
     "text": [
      "15.0\n",
      "15.0\n"
     ]
    }
   ],
   "source": [
    "import numpy as np\n",
    "sum_B = np.trace(B)\n",
    "sum_C = np.trace(C)\n",
    "print(sum_B)\n",
    "print(sum_C)"
   ]
  },
  {
   "cell_type": "markdown",
   "metadata": {},
   "source": [
    "15.\tПосчитайте детерминант и ранг матриц $A$, $B$ и $C$, посмотрите на спектр (набор собственных значений) матриц $B$ и $C$, какие выводы вы можете сделать?  \n",
    "(подсказка: используйте готовые функции из библиотеки np.linalg). \n"
   ]
  },
  {
   "cell_type": "code",
   "execution_count": 13,
   "metadata": {},
   "outputs": [
    {
     "name": "stdout",
     "output_type": "stream",
     "text": [
      "-3.593293039181767e-30\n",
      "84.85317399858589\n"
     ]
    }
   ],
   "source": [
    "import numpy as np\n",
    "det_B = np.linalg.det(B)\n",
    "det_C = np.linalg.det(C)\n",
    "rank_A = np.linalg.matrix_rank(A)\n",
    "rank_B = np.linalg.matrix_rank(B)\n",
    "rank_C = np.linalg.matrix_rank(C)\n",
    "eigvalsh_B = np.linalg.eigvalsh(B)\n",
    "eigvalsh_C = np.linalg.eigvalsh(C)\n",
    "print(det_B)\n",
    "print(det_C)"
   ]
  },
  {
   "cell_type": "markdown",
   "metadata": {},
   "source": [
    "16. Численно посчитать определённый интеграл  3-мя методами:  \n",
    "a)\tПрямоугольников $\\int\\limits_a^b {f(x)dx \\approx \\Delta x\\sum\\limits_{k = 0}^N {f({x_k})} }$  \n",
    "b)\tТрапеций $\\int\\limits_a^b {f(x)dx \\approx \\frac{{\\Delta x}}{2}\\left( {f({x_0}) + 2\\sum\\limits_{k = 1}^{N - 1} {f({x_k})}  + f({x_N})} \\right)}$  \n",
    "c)\tПо правилу Симпсона  $\\int\\limits_a^b {f(x)dx \\approx \\frac{{\\Delta x}}{3}\\left( {f({x_0}) + 2\\sum\\limits_{k = 1}^{N/2 - 1} {f({x_{2k}})}  + 4\\sum\\limits_{k = 1}^{N/2} {f({x_{2k - 1}})}  + f({x_N})} \\right)}$  \n",
    "\n",
    "\n",
    "В реализации этих методов цикл for для суммирования использовать нельзя.  \n",
    "Нужно посчитать значение интеграла с некоторым шагом интегрирования (например начать с 0.1), потом уменьшить его в десять раз и ещё раз посчитать и так до тех пор пока отличие в ответах будет в 5-м знаке после запятой, т.е. чтобы ошибка была меньше 1e-5. Получить ответы для 3-х разных методов и сделать соответствующие выводы.  \n",
    "\n",
    "Далее необходимо сравнить полученные оценки с аналитическим решением (т.е. формульным, которое вы должны сами посчитать на листочке и вбить формулу-ответ).   \n",
    "\n",
    "В качестве интеграла взять два из следующих примеров:  \n",
    "- один с номером, сгенерированным случайным образом с помощью функции np.random.randint(9), в качестве seed для генератора случайных чисел взять номер своего студенческого билета. \n",
    "- второй номер - под номером 9, несобственный интерграл. Подумайте, как сделать подбор шага интегрирования адаптивным.\n",
    "\n",
    "<table width=\"80%\"\n",
    "       align=\"center\">\n",
    "    <tr>\n",
    "        <td> 0) $\\int\\limits_3^4 {\\frac{{{x^2} + 3}}{{x - 2}}dx}$ </td>\n",
    "        <td> 1) $\\int\\limits_{ - 2}^{ - 1} {\\frac{{x + 1}}{{{x^3} - {x^2}}}dx}$ </td>\n",
    "        <td> 2) $\\int\\limits_1^2 {\\frac{{{e^{1/{x^2}}}}}{{{x^3}}}dx}$ </td>\n",
    "        <td> 3) $\\int\\limits_1^e {\\frac{{\\cos (\\ln x)}}{x}dx}$ </td>\n",
    "        <td> 4) $\\int\\limits_1^e {\\frac{{dx}}{{x(1 + {{\\ln }^2}x)}}}$ </td>\n",
    "    </tr>                \n",
    "    <tr>\n",
    "        <td> 5) $\\int\\limits_0^{\\pi /2} {{{\\cos }^3}\\alpha \\;d\\alpha }$ </td>\n",
    "        <td> 6) $\\int\\limits_0^{1/3} {c{h^2}3x\\;dx}$ </td>\n",
    "        <td> 7) $\\int\\limits_2^3 {\\frac{{dy}}{{{y^2} - 2y - 8}}dy}$ </td>\n",
    "        <td> 8) $\\int\\limits_0^2 {\\frac{{2x - 1}}{{2x + 1}}dx}$ </td>\n",
    "        <td> 9) $\\int\\limits_{3/4}^2 {\\frac{{dx}}{{\\sqrt {2 + 3x - 2{x^2}} }}}$ </td>\n",
    "        </tr>\n",
    "</table>"
   ]
  },
  {
   "cell_type": "code",
   "execution_count": 15,
   "metadata": {},
   "outputs": [
    {
     "data": {
      "text/plain": [
       "4"
      ]
     },
     "execution_count": 15,
     "metadata": {},
     "output_type": "execute_result"
    }
   ],
   "source": [
    "import numpy as np\n",
    "np.random.seed(1032201390)\n",
    "np.random.randint(9)"
   ]
  },
  {
   "cell_type": "code",
   "execution_count": null,
   "metadata": {},
   "outputs": [],
   "source": []
  }
 ],
 "metadata": {
  "kernelspec": {
   "display_name": "Python 3 (ipykernel)",
   "language": "python",
   "name": "python3"
  },
  "language_info": {
   "codemirror_mode": {
    "name": "ipython",
    "version": 3
   },
   "file_extension": ".py",
   "mimetype": "text/x-python",
   "name": "python",
   "nbconvert_exporter": "python",
   "pygments_lexer": "ipython3",
   "version": "3.10.6"
  }
 },
 "nbformat": 4,
 "nbformat_minor": 2
}
